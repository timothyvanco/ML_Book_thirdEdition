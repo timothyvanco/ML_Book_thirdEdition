{
  "nbformat": 4,
  "nbformat_minor": 0,
  "metadata": {
    "kernelspec": {
      "display_name": "Python 3",
      "language": "python",
      "name": "python3"
    },
    "language_info": {
      "codemirror_mode": {
        "name": "ipython",
        "version": 3
      },
      "file_extension": ".py",
      "mimetype": "text/x-python",
      "name": "python",
      "nbconvert_exporter": "python",
      "pygments_lexer": "ipython3",
      "version": "3.7.4"
    },
    "colab": {
      "name": "Wasserstein GAN.ipynb",
      "provenance": []
    },
    "accelerator": "GPU",
    "widgets": {
      "application/vnd.jupyter.widget-state+json": {
        "1560a61d856b4b43b526b013d56720c9": {
          "model_module": "@jupyter-widgets/controls",
          "model_name": "HBoxModel",
          "state": {
            "_view_name": "HBoxView",
            "_dom_classes": [],
            "_model_name": "HBoxModel",
            "_view_module": "@jupyter-widgets/controls",
            "_model_module_version": "1.5.0",
            "_view_count": null,
            "_view_module_version": "1.5.0",
            "box_style": "",
            "layout": "IPY_MODEL_1ff0c74d8a8145b19c9d19109d5a4bd8",
            "_model_module": "@jupyter-widgets/controls",
            "children": [
              "IPY_MODEL_320af86f496d41e096db2229ab8ceca5",
              "IPY_MODEL_49ee677677e84d7fb460a9088b97c575"
            ]
          }
        },
        "1ff0c74d8a8145b19c9d19109d5a4bd8": {
          "model_module": "@jupyter-widgets/base",
          "model_name": "LayoutModel",
          "state": {
            "_view_name": "LayoutView",
            "grid_template_rows": null,
            "right": null,
            "justify_content": null,
            "_view_module": "@jupyter-widgets/base",
            "overflow": null,
            "_model_module_version": "1.2.0",
            "_view_count": null,
            "flex_flow": null,
            "width": null,
            "min_width": null,
            "border": null,
            "align_items": null,
            "bottom": null,
            "_model_module": "@jupyter-widgets/base",
            "top": null,
            "grid_column": null,
            "overflow_y": null,
            "overflow_x": null,
            "grid_auto_flow": null,
            "grid_area": null,
            "grid_template_columns": null,
            "flex": null,
            "_model_name": "LayoutModel",
            "justify_items": null,
            "grid_row": null,
            "max_height": null,
            "align_content": null,
            "visibility": null,
            "align_self": null,
            "height": null,
            "min_height": null,
            "padding": null,
            "grid_auto_rows": null,
            "grid_gap": null,
            "max_width": null,
            "order": null,
            "_view_module_version": "1.2.0",
            "grid_template_areas": null,
            "object_position": null,
            "object_fit": null,
            "grid_auto_columns": null,
            "margin": null,
            "display": null,
            "left": null
          }
        },
        "320af86f496d41e096db2229ab8ceca5": {
          "model_module": "@jupyter-widgets/controls",
          "model_name": "IntProgressModel",
          "state": {
            "_view_name": "ProgressView",
            "style": "IPY_MODEL_4931dd60a72849b6b264a986522985f4",
            "_dom_classes": [],
            "description": "Dl Completed...: 100%",
            "_model_name": "IntProgressModel",
            "bar_style": "success",
            "max": 4,
            "_view_module": "@jupyter-widgets/controls",
            "_model_module_version": "1.5.0",
            "value": 4,
            "_view_count": null,
            "_view_module_version": "1.5.0",
            "orientation": "horizontal",
            "min": 0,
            "description_tooltip": null,
            "_model_module": "@jupyter-widgets/controls",
            "layout": "IPY_MODEL_731099d7877f49e8bffca878f13d9e34"
          }
        },
        "49ee677677e84d7fb460a9088b97c575": {
          "model_module": "@jupyter-widgets/controls",
          "model_name": "HTMLModel",
          "state": {
            "_view_name": "HTMLView",
            "style": "IPY_MODEL_afa0c7d41edf4b5d9e1112a8d9a07215",
            "_dom_classes": [],
            "description": "",
            "_model_name": "HTMLModel",
            "placeholder": "​",
            "_view_module": "@jupyter-widgets/controls",
            "_model_module_version": "1.5.0",
            "value": " 4/4 [00:21&lt;00:00,  5.37s/ file]",
            "_view_count": null,
            "_view_module_version": "1.5.0",
            "description_tooltip": null,
            "_model_module": "@jupyter-widgets/controls",
            "layout": "IPY_MODEL_5c5fa0ff3e734e6bb1b6ef38109c9a20"
          }
        },
        "4931dd60a72849b6b264a986522985f4": {
          "model_module": "@jupyter-widgets/controls",
          "model_name": "ProgressStyleModel",
          "state": {
            "_view_name": "StyleView",
            "_model_name": "ProgressStyleModel",
            "description_width": "initial",
            "_view_module": "@jupyter-widgets/base",
            "_model_module_version": "1.5.0",
            "_view_count": null,
            "_view_module_version": "1.2.0",
            "bar_color": null,
            "_model_module": "@jupyter-widgets/controls"
          }
        },
        "731099d7877f49e8bffca878f13d9e34": {
          "model_module": "@jupyter-widgets/base",
          "model_name": "LayoutModel",
          "state": {
            "_view_name": "LayoutView",
            "grid_template_rows": null,
            "right": null,
            "justify_content": null,
            "_view_module": "@jupyter-widgets/base",
            "overflow": null,
            "_model_module_version": "1.2.0",
            "_view_count": null,
            "flex_flow": null,
            "width": null,
            "min_width": null,
            "border": null,
            "align_items": null,
            "bottom": null,
            "_model_module": "@jupyter-widgets/base",
            "top": null,
            "grid_column": null,
            "overflow_y": null,
            "overflow_x": null,
            "grid_auto_flow": null,
            "grid_area": null,
            "grid_template_columns": null,
            "flex": null,
            "_model_name": "LayoutModel",
            "justify_items": null,
            "grid_row": null,
            "max_height": null,
            "align_content": null,
            "visibility": null,
            "align_self": null,
            "height": null,
            "min_height": null,
            "padding": null,
            "grid_auto_rows": null,
            "grid_gap": null,
            "max_width": null,
            "order": null,
            "_view_module_version": "1.2.0",
            "grid_template_areas": null,
            "object_position": null,
            "object_fit": null,
            "grid_auto_columns": null,
            "margin": null,
            "display": null,
            "left": null
          }
        },
        "afa0c7d41edf4b5d9e1112a8d9a07215": {
          "model_module": "@jupyter-widgets/controls",
          "model_name": "DescriptionStyleModel",
          "state": {
            "_view_name": "StyleView",
            "_model_name": "DescriptionStyleModel",
            "description_width": "",
            "_view_module": "@jupyter-widgets/base",
            "_model_module_version": "1.5.0",
            "_view_count": null,
            "_view_module_version": "1.2.0",
            "_model_module": "@jupyter-widgets/controls"
          }
        },
        "5c5fa0ff3e734e6bb1b6ef38109c9a20": {
          "model_module": "@jupyter-widgets/base",
          "model_name": "LayoutModel",
          "state": {
            "_view_name": "LayoutView",
            "grid_template_rows": null,
            "right": null,
            "justify_content": null,
            "_view_module": "@jupyter-widgets/base",
            "overflow": null,
            "_model_module_version": "1.2.0",
            "_view_count": null,
            "flex_flow": null,
            "width": null,
            "min_width": null,
            "border": null,
            "align_items": null,
            "bottom": null,
            "_model_module": "@jupyter-widgets/base",
            "top": null,
            "grid_column": null,
            "overflow_y": null,
            "overflow_x": null,
            "grid_auto_flow": null,
            "grid_area": null,
            "grid_template_columns": null,
            "flex": null,
            "_model_name": "LayoutModel",
            "justify_items": null,
            "grid_row": null,
            "max_height": null,
            "align_content": null,
            "visibility": null,
            "align_self": null,
            "height": null,
            "min_height": null,
            "padding": null,
            "grid_auto_rows": null,
            "grid_gap": null,
            "max_width": null,
            "order": null,
            "_view_module_version": "1.2.0",
            "grid_template_areas": null,
            "object_position": null,
            "object_fit": null,
            "grid_auto_columns": null,
            "margin": null,
            "display": null,
            "left": null
          }
        }
      }
    }
  },
  "cells": [
    {
      "cell_type": "markdown",
      "metadata": {
        "collapsed": true,
        "pycharm": {
          "is_executing": false
        },
        "id": "1N1o-_CeAiRT",
        "colab_type": "text"
      },
      "source": [
        "\n"
      ]
    },
    {
      "cell_type": "code",
      "metadata": {
        "id": "Besz-HzyAiRW",
        "colab_type": "code",
        "colab": {}
      },
      "source": [
        "import tensorflow as tf\n",
        "import tensorflow_datasets as tfds\n",
        "import numpy as np\n",
        "import matplotlib.pyplot as plt\n",
        "import time\n",
        "import itertools"
      ],
      "execution_count": 0,
      "outputs": []
    },
    {
      "cell_type": "code",
      "metadata": {
        "id": "Cp9b2JxBAiRm",
        "colab_type": "code",
        "colab": {
          "base_uri": "https://localhost:8080/",
          "height": 139
        },
        "outputId": "9b7f81b0-7c57-4ced-f5f6-71995a96d018"
      },
      "source": [
        "print(tf.__version__)\n",
        "\n",
        "print(\"GPU Available:\", tf.test.is_gpu_available())\n",
        "\n",
        "if tf.test.is_gpu_available():\n",
        "    device_name = tf.test.gpu_device_name()\n",
        "\n",
        "else:\n",
        "    device_name = 'CPU:0'\n",
        "    \n",
        "print(device_name)"
      ],
      "execution_count": 3,
      "outputs": [
        {
          "output_type": "stream",
          "text": [
            "2.2.0-rc3\n",
            "WARNING:tensorflow:From <ipython-input-3-2b5c8586d6c4>:3: is_gpu_available (from tensorflow.python.framework.test_util) is deprecated and will be removed in a future version.\n",
            "Instructions for updating:\n",
            "Use `tf.config.list_physical_devices('GPU')` instead.\n",
            "GPU Available: True\n",
            "/device:GPU:0\n"
          ],
          "name": "stdout"
        }
      ]
    },
    {
      "cell_type": "code",
      "metadata": {
        "id": "N6QeX7miAqAr",
        "colab_type": "code",
        "colab": {}
      },
      "source": [
        "def make_dcgan_generator(z_size=20, output_size=(28, 28, 1), n_filters=128, n_blocks=2):\n",
        "    size_factor = 2**n_blocks\n",
        "    hidden_size = (\n",
        "        output_size[0]//size_factor, \n",
        "        output_size[1]//size_factor\n",
        "    )\n",
        "    \n",
        "    model = tf.keras.Sequential([\n",
        "        tf.keras.layers.Input(shape=(z_size,)),\n",
        "        \n",
        "        tf.keras.layers.Dense(units=n_filters*np.prod(hidden_size), use_bias=False),\n",
        "        tf.keras.layers.BatchNormalization(),\n",
        "        tf.keras.layers.LeakyReLU(),\n",
        "        tf.keras.layers.Reshape((hidden_size[0], hidden_size[1], n_filters)),\n",
        "    \n",
        "        tf.keras.layers.Conv2DTranspose(\n",
        "            filters=n_filters, kernel_size=(5, 5), strides=(1, 1),\n",
        "            padding='same', use_bias=False),\n",
        "        tf.keras.layers.BatchNormalization(),\n",
        "        tf.keras.layers.LeakyReLU()\n",
        "    ])\n",
        "        \n",
        "    nf = n_filters\n",
        "    for i in range(n_blocks):\n",
        "        nf = nf // 2\n",
        "        model.add(\n",
        "            tf.keras.layers.Conv2DTranspose(\n",
        "                filters=nf, kernel_size=(5, 5), strides=(2, 2),\n",
        "                padding='same', use_bias=False))\n",
        "        model.add(tf.keras.layers.BatchNormalization())\n",
        "        model.add(tf.keras.layers.LeakyReLU())\n",
        "                \n",
        "    model.add(\n",
        "        tf.keras.layers.Conv2DTranspose(\n",
        "            filters=output_size[2], kernel_size=(5, 5), \n",
        "            strides=(1, 1), padding='same', use_bias=False, \n",
        "            activation='tanh'))\n",
        "        \n",
        "    return model"
      ],
      "execution_count": 0,
      "outputs": []
    },
    {
      "cell_type": "code",
      "metadata": {
        "id": "lM2kqoLPAtk0",
        "colab_type": "code",
        "colab": {}
      },
      "source": [
        "def make_dcgan_discriminator(input_size=(28, 28, 1), n_filters=64, n_blocks=2):\n",
        "    model = tf.keras.Sequential([\n",
        "        tf.keras.layers.Input(shape=input_size),\n",
        "        tf.keras.layers.Conv2D(\n",
        "            filters=n_filters, kernel_size=5, \n",
        "            strides=(1, 1), padding='same'),\n",
        "        tf.keras.layers.BatchNormalization(),\n",
        "        tf.keras.layers.LeakyReLU()\n",
        "    ])\n",
        "    \n",
        "    nf = n_filters\n",
        "    for i in range(n_blocks):\n",
        "        nf = nf*2\n",
        "        model.add(\n",
        "            tf.keras.layers.Conv2D(\n",
        "                filters=nf, kernel_size=(5, 5), \n",
        "                strides=(2, 2),padding='same'))\n",
        "        model.add(tf.keras.layers.BatchNormalization())\n",
        "        model.add(tf.keras.layers.LeakyReLU())\n",
        "        model.add(tf.keras.layers.Dropout(0.3))\n",
        "        \n",
        "    model.add(tf.keras.layers.Conv2D(\n",
        "            filters=1, kernel_size=(7, 7), padding='valid'))\n",
        "    \n",
        "    model.add(tf.keras.layers.Reshape((1,)))\n",
        "    \n",
        "    return model"
      ],
      "execution_count": 0,
      "outputs": []
    },
    {
      "cell_type": "code",
      "metadata": {
        "id": "giaWmOdNAtpN",
        "colab_type": "code",
        "colab": {
          "base_uri": "https://localhost:8080/",
          "height": 629
        },
        "outputId": "c409c2d2-22ad-459f-ba66-82fdf6fdf80d"
      },
      "source": [
        "gen_model = make_dcgan_generator()\n",
        "gen_model.summary()"
      ],
      "execution_count": 6,
      "outputs": [
        {
          "output_type": "stream",
          "text": [
            "Model: \"sequential\"\n",
            "_________________________________________________________________\n",
            "Layer (type)                 Output Shape              Param #   \n",
            "=================================================================\n",
            "dense (Dense)                (None, 6272)              125440    \n",
            "_________________________________________________________________\n",
            "batch_normalization (BatchNo (None, 6272)              25088     \n",
            "_________________________________________________________________\n",
            "leaky_re_lu (LeakyReLU)      (None, 6272)              0         \n",
            "_________________________________________________________________\n",
            "reshape (Reshape)            (None, 7, 7, 128)         0         \n",
            "_________________________________________________________________\n",
            "conv2d_transpose (Conv2DTran (None, 7, 7, 128)         409600    \n",
            "_________________________________________________________________\n",
            "batch_normalization_1 (Batch (None, 7, 7, 128)         512       \n",
            "_________________________________________________________________\n",
            "leaky_re_lu_1 (LeakyReLU)    (None, 7, 7, 128)         0         \n",
            "_________________________________________________________________\n",
            "conv2d_transpose_1 (Conv2DTr (None, 14, 14, 64)        204800    \n",
            "_________________________________________________________________\n",
            "batch_normalization_2 (Batch (None, 14, 14, 64)        256       \n",
            "_________________________________________________________________\n",
            "leaky_re_lu_2 (LeakyReLU)    (None, 14, 14, 64)        0         \n",
            "_________________________________________________________________\n",
            "conv2d_transpose_2 (Conv2DTr (None, 28, 28, 32)        51200     \n",
            "_________________________________________________________________\n",
            "batch_normalization_3 (Batch (None, 28, 28, 32)        128       \n",
            "_________________________________________________________________\n",
            "leaky_re_lu_3 (LeakyReLU)    (None, 28, 28, 32)        0         \n",
            "_________________________________________________________________\n",
            "conv2d_transpose_3 (Conv2DTr (None, 28, 28, 1)         800       \n",
            "=================================================================\n",
            "Total params: 817,824\n",
            "Trainable params: 804,832\n",
            "Non-trainable params: 12,992\n",
            "_________________________________________________________________\n"
          ],
          "name": "stdout"
        }
      ]
    },
    {
      "cell_type": "code",
      "metadata": {
        "id": "b1bQEQD5Aw9m",
        "colab_type": "code",
        "colab": {
          "base_uri": "https://localhost:8080/",
          "height": 595
        },
        "outputId": "17ec19c3-d1e8-48bf-ef63-903b87a42d4f"
      },
      "source": [
        "disc_model = make_dcgan_discriminator()\n",
        "disc_model.summary()"
      ],
      "execution_count": 7,
      "outputs": [
        {
          "output_type": "stream",
          "text": [
            "Model: \"sequential_1\"\n",
            "_________________________________________________________________\n",
            "Layer (type)                 Output Shape              Param #   \n",
            "=================================================================\n",
            "conv2d (Conv2D)              (None, 28, 28, 64)        1664      \n",
            "_________________________________________________________________\n",
            "batch_normalization_4 (Batch (None, 28, 28, 64)        256       \n",
            "_________________________________________________________________\n",
            "leaky_re_lu_4 (LeakyReLU)    (None, 28, 28, 64)        0         \n",
            "_________________________________________________________________\n",
            "conv2d_1 (Conv2D)            (None, 14, 14, 128)       204928    \n",
            "_________________________________________________________________\n",
            "batch_normalization_5 (Batch (None, 14, 14, 128)       512       \n",
            "_________________________________________________________________\n",
            "leaky_re_lu_5 (LeakyReLU)    (None, 14, 14, 128)       0         \n",
            "_________________________________________________________________\n",
            "dropout (Dropout)            (None, 14, 14, 128)       0         \n",
            "_________________________________________________________________\n",
            "conv2d_2 (Conv2D)            (None, 7, 7, 256)         819456    \n",
            "_________________________________________________________________\n",
            "batch_normalization_6 (Batch (None, 7, 7, 256)         1024      \n",
            "_________________________________________________________________\n",
            "leaky_re_lu_6 (LeakyReLU)    (None, 7, 7, 256)         0         \n",
            "_________________________________________________________________\n",
            "dropout_1 (Dropout)          (None, 7, 7, 256)         0         \n",
            "_________________________________________________________________\n",
            "conv2d_3 (Conv2D)            (None, 1, 1, 1)           12545     \n",
            "_________________________________________________________________\n",
            "reshape_1 (Reshape)          (None, 1)                 0         \n",
            "=================================================================\n",
            "Total params: 1,040,385\n",
            "Trainable params: 1,039,489\n",
            "Non-trainable params: 896\n",
            "_________________________________________________________________\n"
          ],
          "name": "stdout"
        }
      ]
    },
    {
      "cell_type": "code",
      "metadata": {
        "id": "Z0cKRB8kAzKB",
        "colab_type": "code",
        "colab": {
          "base_uri": "https://localhost:8080/",
          "height": 222,
          "referenced_widgets": [
            "1560a61d856b4b43b526b013d56720c9",
            "1ff0c74d8a8145b19c9d19109d5a4bd8",
            "320af86f496d41e096db2229ab8ceca5",
            "49ee677677e84d7fb460a9088b97c575",
            "4931dd60a72849b6b264a986522985f4",
            "731099d7877f49e8bffca878f13d9e34",
            "afa0c7d41edf4b5d9e1112a8d9a07215",
            "5c5fa0ff3e734e6bb1b6ef38109c9a20"
          ]
        },
        "outputId": "5138c38b-4454-4e52-a95f-b206fc46e44f"
      },
      "source": [
        "mnist_bldr = tfds.builder('mnist')\n",
        "mnist_bldr.download_and_prepare()\n",
        "mnist = mnist_bldr.as_dataset(shuffle_files=False)\n",
        "\n",
        "def preprocess(ex, mode='uniform'):\n",
        "    image = ex['image']\n",
        "    image = tf.image.convert_image_dtype(image, tf.float32)\n",
        "\n",
        "    image = image*2 - 1.0\n",
        "    if mode == 'uniform':\n",
        "        input_z = tf.random.uniform(\n",
        "            shape=(z_size,), minval=-1.0, maxval=1.0)\n",
        "    elif mode == 'normal':\n",
        "        input_z = tf.random.normal(shape=(z_size,))\n",
        "    return input_z, image"
      ],
      "execution_count": 8,
      "outputs": [
        {
          "output_type": "stream",
          "text": [
            "WARNING:absl:Dataset mnist is hosted on GCS. It will automatically be downloaded to your\n",
            "local data directory. If you'd instead prefer to read directly from our public\n",
            "GCS bucket (recommended if you're running on GCP), you can instead set\n",
            "data_dir=gs://tfds-data/datasets.\n",
            "\n"
          ],
          "name": "stderr"
        },
        {
          "output_type": "stream",
          "text": [
            "\u001b[1mDownloading and preparing dataset mnist/3.0.0 (download: 11.06 MiB, generated: Unknown size, total: 11.06 MiB) to /root/tensorflow_datasets/mnist/3.0.0...\u001b[0m\n"
          ],
          "name": "stdout"
        },
        {
          "output_type": "display_data",
          "data": {
            "application/vnd.jupyter.widget-view+json": {
              "model_id": "1560a61d856b4b43b526b013d56720c9",
              "version_minor": 0,
              "version_major": 2
            },
            "text/plain": [
              "HBox(children=(IntProgress(value=0, description='Dl Completed...', max=4, style=ProgressStyle(description_widt…"
            ]
          },
          "metadata": {
            "tags": []
          }
        },
        {
          "output_type": "stream",
          "text": [
            "\n",
            "\n",
            "\u001b[1mDataset mnist downloaded and prepared to /root/tensorflow_datasets/mnist/3.0.0. Subsequent calls will reuse this data.\u001b[0m\n"
          ],
          "name": "stdout"
        }
      ]
    },
    {
      "cell_type": "code",
      "metadata": {
        "id": "oVh1R5xjA1ek",
        "colab_type": "code",
        "colab": {
          "base_uri": "https://localhost:8080/",
          "height": 1000
        },
        "outputId": "fe56ca82-8057-4a41-8bd1-ba56dbbb59df"
      },
      "source": [
        "num_epochs = 100\n",
        "batch_size = 128\n",
        "image_size = (28, 28)\n",
        "z_size = 20\n",
        "mode_z = 'uniform'\n",
        "lambda_gp = 10.0\n",
        "\n",
        "tf.random.set_seed(1)\n",
        "np.random.seed(1)\n",
        "\n",
        "## Set-up the dataset\n",
        "mnist_trainset = mnist['train']\n",
        "mnist_trainset = mnist_trainset.map(preprocess)\n",
        "\n",
        "mnist_trainset = mnist_trainset.shuffle(10000)\n",
        "mnist_trainset = mnist_trainset.batch(\n",
        "    batch_size, drop_remainder=True)\n",
        "\n",
        "## Set-up the model\n",
        "with tf.device(device_name):\n",
        "    gen_model = make_dcgan_generator()\n",
        "    gen_model.build(input_shape=(None, z_size))\n",
        "    gen_model.summary()\n",
        "\n",
        "    disc_model = make_dcgan_discriminator()\n",
        "    disc_model.build(input_shape=(None, np.prod(image_size)))\n",
        "    disc_model.summary()"
      ],
      "execution_count": 9,
      "outputs": [
        {
          "output_type": "stream",
          "text": [
            "Model: \"sequential_2\"\n",
            "_________________________________________________________________\n",
            "Layer (type)                 Output Shape              Param #   \n",
            "=================================================================\n",
            "dense_1 (Dense)              (None, 6272)              125440    \n",
            "_________________________________________________________________\n",
            "batch_normalization_7 (Batch (None, 6272)              25088     \n",
            "_________________________________________________________________\n",
            "leaky_re_lu_7 (LeakyReLU)    (None, 6272)              0         \n",
            "_________________________________________________________________\n",
            "reshape_2 (Reshape)          (None, 7, 7, 128)         0         \n",
            "_________________________________________________________________\n",
            "conv2d_transpose_4 (Conv2DTr (None, 7, 7, 128)         409600    \n",
            "_________________________________________________________________\n",
            "batch_normalization_8 (Batch (None, 7, 7, 128)         512       \n",
            "_________________________________________________________________\n",
            "leaky_re_lu_8 (LeakyReLU)    (None, 7, 7, 128)         0         \n",
            "_________________________________________________________________\n",
            "conv2d_transpose_5 (Conv2DTr (None, 14, 14, 64)        204800    \n",
            "_________________________________________________________________\n",
            "batch_normalization_9 (Batch (None, 14, 14, 64)        256       \n",
            "_________________________________________________________________\n",
            "leaky_re_lu_9 (LeakyReLU)    (None, 14, 14, 64)        0         \n",
            "_________________________________________________________________\n",
            "conv2d_transpose_6 (Conv2DTr (None, 28, 28, 32)        51200     \n",
            "_________________________________________________________________\n",
            "batch_normalization_10 (Batc (None, 28, 28, 32)        128       \n",
            "_________________________________________________________________\n",
            "leaky_re_lu_10 (LeakyReLU)   (None, 28, 28, 32)        0         \n",
            "_________________________________________________________________\n",
            "conv2d_transpose_7 (Conv2DTr (None, 28, 28, 1)         800       \n",
            "=================================================================\n",
            "Total params: 817,824\n",
            "Trainable params: 804,832\n",
            "Non-trainable params: 12,992\n",
            "_________________________________________________________________\n",
            "Model: \"sequential_3\"\n",
            "_________________________________________________________________\n",
            "Layer (type)                 Output Shape              Param #   \n",
            "=================================================================\n",
            "conv2d_4 (Conv2D)            (None, 28, 28, 64)        1664      \n",
            "_________________________________________________________________\n",
            "batch_normalization_11 (Batc (None, 28, 28, 64)        256       \n",
            "_________________________________________________________________\n",
            "leaky_re_lu_11 (LeakyReLU)   (None, 28, 28, 64)        0         \n",
            "_________________________________________________________________\n",
            "conv2d_5 (Conv2D)            (None, 14, 14, 128)       204928    \n",
            "_________________________________________________________________\n",
            "batch_normalization_12 (Batc (None, 14, 14, 128)       512       \n",
            "_________________________________________________________________\n",
            "leaky_re_lu_12 (LeakyReLU)   (None, 14, 14, 128)       0         \n",
            "_________________________________________________________________\n",
            "dropout_2 (Dropout)          (None, 14, 14, 128)       0         \n",
            "_________________________________________________________________\n",
            "conv2d_6 (Conv2D)            (None, 7, 7, 256)         819456    \n",
            "_________________________________________________________________\n",
            "batch_normalization_13 (Batc (None, 7, 7, 256)         1024      \n",
            "_________________________________________________________________\n",
            "leaky_re_lu_13 (LeakyReLU)   (None, 7, 7, 256)         0         \n",
            "_________________________________________________________________\n",
            "dropout_3 (Dropout)          (None, 7, 7, 256)         0         \n",
            "_________________________________________________________________\n",
            "conv2d_7 (Conv2D)            (None, 1, 1, 1)           12545     \n",
            "_________________________________________________________________\n",
            "reshape_3 (Reshape)          (None, 1)                 0         \n",
            "=================================================================\n",
            "Total params: 1,040,385\n",
            "Trainable params: 1,039,489\n",
            "Non-trainable params: 896\n",
            "_________________________________________________________________\n"
          ],
          "name": "stdout"
        }
      ]
    },
    {
      "cell_type": "code",
      "metadata": {
        "id": "9h_ROvjiA4i8",
        "colab_type": "code",
        "colab": {}
      },
      "source": [
        "## optimizers:\n",
        "g_optimizer = tf.keras.optimizers.Adam(0.0002)\n",
        "d_optimizer = tf.keras.optimizers.Adam(0.0002)\n",
        "\n",
        "if mode_z == 'uniform':\n",
        "    fixed_z = tf.random.uniform(\n",
        "        shape=(batch_size, z_size),\n",
        "        minval=-1, maxval=1)\n",
        "elif mode_z == 'normal':\n",
        "    fixed_z = tf.random.normal(\n",
        "        shape=(batch_size, z_size))\n",
        "\n",
        "def create_samples(g_model, input_z):\n",
        "    g_output = g_model(input_z, training=False)\n",
        "    images = tf.reshape(g_output, (batch_size, *image_size))    \n",
        "    return (images+1)/2.0\n",
        "\n",
        "all_losses = []\n",
        "epoch_samples = []"
      ],
      "execution_count": 0,
      "outputs": []
    },
    {
      "cell_type": "code",
      "metadata": {
        "id": "be3RzJMNA5Lw",
        "colab_type": "code",
        "colab": {
          "base_uri": "https://localhost:8080/",
          "height": 1000
        },
        "outputId": "c8a47631-ac57-49f0-e1b8-dd6607c3da9a"
      },
      "source": [
        "start_time = time.time()\n",
        "\n",
        "for epoch in range(1, num_epochs+1):\n",
        "    epoch_losses = []\n",
        "    for i,(input_z,input_real) in enumerate(mnist_trainset):\n",
        "        \n",
        "        ## Compute discriminator's loss and gradients:\n",
        "        with tf.GradientTape() as d_tape, tf.GradientTape() as g_tape:\n",
        "            g_output = gen_model(input_z, training=True)\n",
        "            \n",
        "            d_critics_real = disc_model(input_real, training=True)\n",
        "            d_critics_fake = disc_model(g_output, training=True)\n",
        "\n",
        "            ## Compute generator's loss:\n",
        "            g_loss = -tf.math.reduce_mean(d_critics_fake)\n",
        "\n",
        "            ## Compute discriminator's losses\n",
        "            d_loss_real = -tf.math.reduce_mean(d_critics_real)\n",
        "            d_loss_fake =  tf.math.reduce_mean(d_critics_fake)\n",
        "            d_loss = d_loss_real + d_loss_fake\n",
        "\n",
        "            ## Gradient penalty:\n",
        "            with tf.GradientTape() as gp_tape:\n",
        "                alpha = tf.random.uniform(\n",
        "                    shape=[d_critics_real.shape[0], 1, 1, 1], \n",
        "                    minval=0.0, maxval=1.0)\n",
        "                interpolated = (\n",
        "                    alpha*input_real + (1-alpha)*g_output)\n",
        "                gp_tape.watch(interpolated)\n",
        "                d_critics_intp = disc_model(interpolated)\n",
        "            \n",
        "            grads_intp = gp_tape.gradient(\n",
        "                d_critics_intp, [interpolated,])[0]\n",
        "            grads_intp_l2 = tf.sqrt(\n",
        "                tf.reduce_sum(tf.square(grads_intp), axis=[1, 2, 3]))\n",
        "            grad_penalty = tf.reduce_mean(tf.square(grads_intp_l2 - 1.0))\n",
        "        \n",
        "            d_loss = d_loss + lambda_gp*grad_penalty\n",
        "        \n",
        "        ## Optimization: Compute the gradients apply them\n",
        "        d_grads = d_tape.gradient(d_loss, disc_model.trainable_variables)\n",
        "        d_optimizer.apply_gradients(\n",
        "            grads_and_vars=zip(d_grads, disc_model.trainable_variables))\n",
        "        \n",
        "        g_grads = g_tape.gradient(g_loss, gen_model.trainable_variables)\n",
        "        g_optimizer.apply_gradients(\n",
        "            grads_and_vars=zip(g_grads, gen_model.trainable_variables))\n",
        "\n",
        "        epoch_losses.append(\n",
        "            (g_loss.numpy(), d_loss.numpy(), \n",
        "             d_loss_real.numpy(), d_loss_fake.numpy()))\n",
        "                    \n",
        "    all_losses.append(epoch_losses)\n",
        "    \n",
        "    print('Epoch {:-3d} | ET {:.2f} min | Avg Losses >>'\n",
        "          ' G/D {:6.2f}/{:6.2f} [D-Real: {:6.2f} D-Fake: {:6.2f}]'\n",
        "          .format(epoch, (time.time() - start_time)/60, \n",
        "                  *list(np.mean(all_losses[-1], axis=0)))\n",
        "    )\n",
        "    \n",
        "    epoch_samples.append(\n",
        "        create_samples(gen_model, fixed_z).numpy()\n",
        "    )"
      ],
      "execution_count": 11,
      "outputs": [
        {
          "output_type": "stream",
          "text": [
            "Epoch   1 | ET 1.22 min | Avg Losses >> G/D 205.71/-338.08 [D-Real: -223.69 D-Fake: -205.71]\n",
            "Epoch   2 | ET 2.35 min | Avg Losses >> G/D 122.83/-73.08 [D-Real: -73.46 D-Fake: -122.83]\n",
            "Epoch   3 | ET 3.48 min | Avg Losses >> G/D  97.49/-13.81 [D-Real: -26.43 D-Fake: -97.49]\n",
            "Epoch   4 | ET 4.61 min | Avg Losses >> G/D  57.70/ -3.37 [D-Real:   5.03 D-Fake: -57.70]\n",
            "Epoch   5 | ET 5.75 min | Avg Losses >> G/D  46.31/ -2.66 [D-Real:   7.53 D-Fake: -46.31]\n",
            "Epoch   6 | ET 6.88 min | Avg Losses >> G/D  35.50/-15.71 [D-Real:   0.10 D-Fake: -35.50]\n",
            "Epoch   7 | ET 8.02 min | Avg Losses >> G/D  36.69/-18.89 [D-Real:   3.43 D-Fake: -36.69]\n",
            "Epoch   8 | ET 9.17 min | Avg Losses >> G/D  35.44/-19.33 [D-Real:   6.29 D-Fake: -35.44]\n",
            "Epoch   9 | ET 10.34 min | Avg Losses >> G/D  44.81/-27.96 [D-Real:  12.20 D-Fake: -44.81]\n",
            "Epoch  10 | ET 11.51 min | Avg Losses >> G/D  52.70/-40.80 [D-Real:   0.74 D-Fake: -52.70]\n",
            "Epoch  11 | ET 12.66 min | Avg Losses >> G/D  55.24/-32.10 [D-Real:  13.50 D-Fake: -55.24]\n",
            "Epoch  12 | ET 13.82 min | Avg Losses >> G/D  54.56/-41.40 [D-Real:   1.32 D-Fake: -54.56]\n",
            "Epoch  13 | ET 14.97 min | Avg Losses >> G/D  73.75/-33.08 [D-Real:  30.55 D-Fake: -73.75]\n",
            "Epoch  14 | ET 16.11 min | Avg Losses >> G/D  53.77/-33.93 [D-Real:   9.40 D-Fake: -53.77]\n",
            "Epoch  15 | ET 17.25 min | Avg Losses >> G/D  78.43/-30.89 [D-Real:  32.88 D-Fake: -78.43]\n",
            "Epoch  16 | ET 18.38 min | Avg Losses >> G/D  85.34/-41.07 [D-Real:  31.63 D-Fake: -85.34]\n",
            "Epoch  17 | ET 19.51 min | Avg Losses >> G/D  92.57/-35.98 [D-Real:  44.43 D-Fake: -92.57]\n",
            "Epoch  18 | ET 20.64 min | Avg Losses >> G/D  80.96/-35.55 [D-Real:  30.29 D-Fake: -80.96]\n",
            "Epoch  19 | ET 21.77 min | Avg Losses >> G/D  64.03/-31.09 [D-Real:  18.13 D-Fake: -64.03]\n",
            "Epoch  20 | ET 22.90 min | Avg Losses >> G/D  63.56/-31.43 [D-Real:  20.43 D-Fake: -63.56]\n",
            "Epoch  21 | ET 24.03 min | Avg Losses >> G/D  80.62/-30.81 [D-Real:  25.18 D-Fake: -80.62]\n",
            "Epoch  22 | ET 25.16 min | Avg Losses >> G/D  57.11/-33.68 [D-Real:  13.09 D-Fake: -57.11]\n",
            "Epoch  23 | ET 26.29 min | Avg Losses >> G/D  53.73/-34.94 [D-Real:  10.31 D-Fake: -53.73]\n",
            "Epoch  24 | ET 27.42 min | Avg Losses >> G/D  87.62/-34.00 [D-Real:  43.56 D-Fake: -87.62]\n",
            "Epoch  25 | ET 28.55 min | Avg Losses >> G/D  84.22/-39.32 [D-Real:  38.57 D-Fake: -84.22]\n",
            "Epoch  26 | ET 29.68 min | Avg Losses >> G/D 119.05/-34.54 [D-Real:  77.42 D-Fake: -119.05]\n",
            "Epoch  27 | ET 30.81 min | Avg Losses >> G/D  66.58/ -6.28 [D-Real:  28.54 D-Fake: -66.58]\n",
            "Epoch  28 | ET 31.93 min | Avg Losses >> G/D  54.28/-23.77 [D-Real:  22.87 D-Fake: -54.28]\n",
            "Epoch  29 | ET 33.06 min | Avg Losses >> G/D  71.26/-31.64 [D-Real:  34.59 D-Fake: -71.26]\n",
            "Epoch  30 | ET 34.18 min | Avg Losses >> G/D  77.12/-31.28 [D-Real:  40.76 D-Fake: -77.12]\n",
            "Epoch  31 | ET 35.32 min | Avg Losses >> G/D 104.93/-35.19 [D-Real:  58.41 D-Fake: -104.93]\n",
            "Epoch  32 | ET 36.44 min | Avg Losses >> G/D 156.35/-26.79 [D-Real: 120.71 D-Fake: -156.35]\n",
            "Epoch  33 | ET 37.57 min | Avg Losses >> G/D 115.26/-29.67 [D-Real:  77.94 D-Fake: -115.26]\n",
            "Epoch  34 | ET 38.70 min | Avg Losses >> G/D 110.72/-24.62 [D-Real:  71.28 D-Fake: -110.72]\n",
            "Epoch  35 | ET 39.83 min | Avg Losses >> G/D 105.17/-22.63 [D-Real:  71.57 D-Fake: -105.17]\n",
            "Epoch  36 | ET 40.97 min | Avg Losses >> G/D 161.47/-33.99 [D-Real: 120.05 D-Fake: -161.47]\n",
            "Epoch  37 | ET 42.10 min | Avg Losses >> G/D 139.08/-22.88 [D-Real: 104.42 D-Fake: -139.08]\n",
            "Epoch  38 | ET 43.23 min | Avg Losses >> G/D 103.65/-35.11 [D-Real:  62.80 D-Fake: -103.65]\n",
            "Epoch  39 | ET 44.36 min | Avg Losses >> G/D 125.00/-34.23 [D-Real:  81.13 D-Fake: -125.00]\n",
            "Epoch  40 | ET 45.50 min | Avg Losses >> G/D 114.29/-31.57 [D-Real:  76.46 D-Fake: -114.29]\n",
            "Epoch  41 | ET 46.66 min | Avg Losses >> G/D 135.94/-39.83 [D-Real:  85.28 D-Fake: -135.94]\n",
            "Epoch  42 | ET 47.81 min | Avg Losses >> G/D 182.12/-39.55 [D-Real: 131.34 D-Fake: -182.12]\n",
            "Epoch  43 | ET 48.95 min | Avg Losses >> G/D 147.00/-36.94 [D-Real:  94.13 D-Fake: -147.00]\n",
            "Epoch  44 | ET 50.09 min | Avg Losses >> G/D 140.42/-28.30 [D-Real:  93.92 D-Fake: -140.42]\n",
            "Epoch  45 | ET 51.24 min | Avg Losses >> G/D 145.34/-41.92 [D-Real: 100.10 D-Fake: -145.34]\n",
            "Epoch  46 | ET 52.41 min | Avg Losses >> G/D 218.32/-45.10 [D-Real: 166.35 D-Fake: -218.32]\n",
            "Epoch  47 | ET 53.56 min | Avg Losses >> G/D 178.15/-30.60 [D-Real: 121.12 D-Fake: -178.15]\n",
            "Epoch  48 | ET 54.70 min | Avg Losses >> G/D 164.10/-41.91 [D-Real: 114.06 D-Fake: -164.10]\n",
            "Epoch  49 | ET 55.86 min | Avg Losses >> G/D 226.82/-51.12 [D-Real: 170.06 D-Fake: -226.82]\n",
            "Epoch  50 | ET 57.00 min | Avg Losses >> G/D 207.34/-48.73 [D-Real: 148.55 D-Fake: -207.34]\n",
            "Epoch  51 | ET 58.14 min | Avg Losses >> G/D 261.78/-37.38 [D-Real: 201.65 D-Fake: -261.78]\n",
            "Epoch  52 | ET 59.28 min | Avg Losses >> G/D 280.58/-50.95 [D-Real: 215.11 D-Fake: -280.58]\n",
            "Epoch  53 | ET 60.43 min | Avg Losses >> G/D 322.98/ 28.89 [D-Real: 303.41 D-Fake: -322.98]\n",
            "Epoch  54 | ET 61.58 min | Avg Losses >> G/D 238.75/-19.47 [D-Real: 210.84 D-Fake: -238.75]\n",
            "Epoch  55 | ET 62.73 min | Avg Losses >> G/D 331.46/-32.91 [D-Real: 282.37 D-Fake: -331.46]\n",
            "Epoch  56 | ET 63.86 min | Avg Losses >> G/D 352.78/-41.70 [D-Real: 289.53 D-Fake: -352.78]\n",
            "Epoch  57 | ET 65.00 min | Avg Losses >> G/D 402.83/-12.02 [D-Real: 369.06 D-Fake: -402.83]\n",
            "Epoch  58 | ET 66.14 min | Avg Losses >> G/D 432.88/-55.95 [D-Real: 372.21 D-Fake: -432.88]\n",
            "Epoch  59 | ET 67.29 min | Avg Losses >> G/D 413.96/-67.25 [D-Real: 336.42 D-Fake: -413.96]\n",
            "Epoch  60 | ET 68.43 min | Avg Losses >> G/D 452.96/-67.59 [D-Real: 374.64 D-Fake: -452.96]\n",
            "Epoch  61 | ET 69.57 min | Avg Losses >> G/D 380.12/-60.91 [D-Real: 315.41 D-Fake: -380.12]\n",
            "Epoch  62 | ET 70.70 min | Avg Losses >> G/D 470.09/-78.11 [D-Real: 384.43 D-Fake: -470.09]\n",
            "Epoch  63 | ET 71.84 min | Avg Losses >> G/D 575.37/-81.97 [D-Real: 477.37 D-Fake: -575.37]\n",
            "Epoch  64 | ET 72.98 min | Avg Losses >> G/D 609.07/-90.90 [D-Real: 509.47 D-Fake: -609.07]\n",
            "Epoch  65 | ET 74.12 min | Avg Losses >> G/D 649.95/-109.03 [D-Real: 530.41 D-Fake: -649.95]\n",
            "Epoch  66 | ET 75.26 min | Avg Losses >> G/D 742.57/-123.88 [D-Real: 597.59 D-Fake: -742.57]\n",
            "Epoch  67 | ET 76.40 min | Avg Losses >> G/D 482.94/-82.88 [D-Real: 393.75 D-Fake: -482.94]\n",
            "Epoch  68 | ET 77.53 min | Avg Losses >> G/D 862.90/-171.47 [D-Real: 675.43 D-Fake: -862.90]\n",
            "Epoch  69 | ET 78.67 min | Avg Losses >> G/D 722.88/-137.49 [D-Real: 566.90 D-Fake: -722.88]\n",
            "Epoch  70 | ET 79.81 min | Avg Losses >> G/D 1008.10/-207.58 [D-Real: 770.10 D-Fake: -1008.10]\n",
            "Epoch  71 | ET 80.94 min | Avg Losses >> G/D 1084.94/-254.11 [D-Real: 798.09 D-Fake: -1084.94]\n",
            "Epoch  72 | ET 82.07 min | Avg Losses >> G/D 1057.93/-255.06 [D-Real: 764.28 D-Fake: -1057.93]\n",
            "Epoch  73 | ET 83.21 min | Avg Losses >> G/D 1164.07/-230.31 [D-Real: 856.11 D-Fake: -1164.07]\n",
            "Epoch  74 | ET 84.35 min | Avg Losses >> G/D 1286.08/-323.89 [D-Real: 934.85 D-Fake: -1286.08]\n",
            "Epoch  75 | ET 85.48 min | Avg Losses >> G/D 1355.94/-339.75 [D-Real: 983.81 D-Fake: -1355.94]\n",
            "Epoch  76 | ET 86.60 min | Avg Losses >> G/D 1405.74/-293.45 [D-Real: 1054.62 D-Fake: -1405.74]\n",
            "Epoch  77 | ET 87.72 min | Avg Losses >> G/D 1436.91/-354.49 [D-Real: 1067.86 D-Fake: -1436.91]\n",
            "Epoch  78 | ET 88.86 min | Avg Losses >> G/D 1531.35/-413.63 [D-Real: 1084.33 D-Fake: -1531.35]\n",
            "Epoch  79 | ET 89.99 min | Avg Losses >> G/D 1632.45/-448.72 [D-Real: 1130.24 D-Fake: -1632.45]\n",
            "Epoch  80 | ET 91.12 min | Avg Losses >> G/D 1764.81/-490.19 [D-Real: 1229.62 D-Fake: -1764.81]\n",
            "Epoch  81 | ET 92.25 min | Avg Losses >> G/D 1746.72/-499.35 [D-Real: 1216.28 D-Fake: -1746.72]\n",
            "Epoch  82 | ET 93.38 min | Avg Losses >> G/D 1867.52/-531.80 [D-Real: 1300.92 D-Fake: -1867.52]\n",
            "Epoch  83 | ET 94.52 min | Avg Losses >> G/D 2035.82/-555.33 [D-Real: 1437.77 D-Fake: -2035.82]\n",
            "Epoch  84 | ET 95.65 min | Avg Losses >> G/D 2185.25/-607.20 [D-Real: 1499.51 D-Fake: -2185.25]\n",
            "Epoch  85 | ET 96.78 min | Avg Losses >> G/D 1930.68/-456.24 [D-Real: 1395.54 D-Fake: -1930.68]\n",
            "Epoch  86 | ET 97.92 min | Avg Losses >> G/D 2327.81/-666.90 [D-Real: 1643.46 D-Fake: -2327.81]\n",
            "Epoch  87 | ET 99.05 min | Avg Losses >> G/D 2305.45/-701.41 [D-Real: 1569.44 D-Fake: -2305.45]\n",
            "Epoch  88 | ET 100.19 min | Avg Losses >> G/D 2489.45/-604.48 [D-Real: 1802.78 D-Fake: -2489.45]\n",
            "Epoch  89 | ET 101.33 min | Avg Losses >> G/D 2553.12/-741.99 [D-Real: 1799.57 D-Fake: -2553.12]\n",
            "Epoch  90 | ET 102.47 min | Avg Losses >> G/D 2604.65/-783.99 [D-Real: 1796.09 D-Fake: -2604.65]\n",
            "Epoch  91 | ET 103.61 min | Avg Losses >> G/D 2696.47/-723.06 [D-Real: 1891.16 D-Fake: -2696.47]\n",
            "Epoch  92 | ET 104.76 min | Avg Losses >> G/D 2590.11/-801.67 [D-Real: 1762.53 D-Fake: -2590.11]\n",
            "Epoch  93 | ET 105.89 min | Avg Losses >> G/D 2701.53/-651.70 [D-Real: 1952.67 D-Fake: -2701.53]\n",
            "Epoch  94 | ET 107.03 min | Avg Losses >> G/D 2911.66/-891.25 [D-Real: 1995.52 D-Fake: -2911.66]\n",
            "Epoch  95 | ET 108.17 min | Avg Losses >> G/D 3125.42/-761.39 [D-Real: 2218.86 D-Fake: -3125.42]\n",
            "Epoch  96 | ET 109.31 min | Avg Losses >> G/D 3283.84/-893.42 [D-Real: 2369.54 D-Fake: -3283.84]\n",
            "Epoch  97 | ET 110.46 min | Avg Losses >> G/D 3353.24/-973.84 [D-Real: 2360.25 D-Fake: -3353.24]\n",
            "Epoch  98 | ET 111.60 min | Avg Losses >> G/D 3503.87/-1005.84 [D-Real: 2452.06 D-Fake: -3503.87]\n",
            "Epoch  99 | ET 112.74 min | Avg Losses >> G/D 3408.11/-1037.33 [D-Real: 2345.71 D-Fake: -3408.11]\n",
            "Epoch 100 | ET 113.88 min | Avg Losses >> G/D 3662.80/-1044.98 [D-Real: 2536.22 D-Fake: -3662.80]\n"
          ],
          "name": "stdout"
        }
      ]
    },
    {
      "cell_type": "code",
      "metadata": {
        "id": "efNmcA7lA8fA",
        "colab_type": "code",
        "colab": {
          "base_uri": "https://localhost:8080/",
          "height": 458
        },
        "outputId": "feaefcf3-a53b-4b23-b177-826cbe2abab6"
      },
      "source": [
        "fig = plt.figure(figsize=(8, 6))\n",
        "\n",
        "## Plotting the losses\n",
        "ax = fig.add_subplot(1, 1, 1)\n",
        "g_losses = [item[0] for item in itertools.chain(*all_losses)]\n",
        "d_losses = [item[1] for item in itertools.chain(*all_losses)]\n",
        "plt.plot(g_losses, label='Generator loss', alpha=0.95)\n",
        "plt.plot(d_losses, label='Discriminator loss', alpha=0.95)\n",
        "plt.legend(fontsize=20)\n",
        "ax.set_xlabel('Iteration', size=15)\n",
        "ax.set_ylabel('Loss', size=15)\n",
        "\n",
        "epochs = np.arange(1, 101)\n",
        "epoch2iter = lambda e: e*len(all_losses[-1])\n",
        "epoch_ticks = [1, 20, 40, 60, 80, 100]\n",
        "newpos   = [epoch2iter(e) for e in epoch_ticks]\n",
        "ax2 = ax.twiny()\n",
        "ax2.set_xticks(newpos)\n",
        "ax2.set_xticklabels(epoch_ticks)\n",
        "ax2.xaxis.set_ticks_position('bottom')\n",
        "ax2.xaxis.set_label_position('bottom')\n",
        "ax2.spines['bottom'].set_position(('outward', 60))\n",
        "ax2.set_xlabel('Epoch', size=15)\n",
        "ax2.set_xlim(ax.get_xlim())\n",
        "ax.tick_params(axis='both', which='major', labelsize=15)\n",
        "ax2.tick_params(axis='both', which='major', labelsize=15)\n",
        "\n",
        "#plt.savefig('images/ch17-wdcgan-learning-curve.pdf')\n",
        "plt.show()"
      ],
      "execution_count": 12,
      "outputs": [
        {
          "output_type": "display_data",
          "data": {
            "image/png": "[encoded data removed]",
            "text/plain": [
              "<Figure size 576x432 with 2 Axes>"
            ]
          },
          "metadata": {
            "tags": [],
            "needs_background": "light"
          }
        }
      ]
    },
    {
      "cell_type": "code",
      "metadata": {
        "id": "5cCm7PVKA_Si",
        "colab_type": "code",
        "colab": {
          "base_uri": "https://localhost:8080/",
          "height": 783
        },
        "outputId": "c3e6ad72-be7a-42bc-8862-2062ec08b3a7"
      },
      "source": [
        "selected_epochs = [1, 2, 4, 10, 50, 100]\n",
        "fig = plt.figure(figsize=(10, 14))\n",
        "for i,e in enumerate(selected_epochs):\n",
        "    for j in range(5):\n",
        "        ax = fig.add_subplot(6, 5, i*5+j+1)\n",
        "        ax.set_xticks([])\n",
        "        ax.set_yticks([])\n",
        "        if j == 0:\n",
        "            ax.text(\n",
        "                -0.06, 0.5, 'Epoch {}'.format(e),\n",
        "                rotation=90, size=18, color='red',\n",
        "                horizontalalignment='right',\n",
        "                verticalalignment='center', \n",
        "                transform=ax.transAxes)\n",
        "        \n",
        "        image = epoch_samples[e-1][j]\n",
        "        ax.imshow(image, cmap='gray_r')\n",
        "    \n",
        "plt.savefig('GAN.png')\n",
        "plt.show()"
      ],
      "execution_count": 14,
      "outputs": [
        {
          "output_type": "display_data",
          "data": {
            "image/png": "[encoded data removed]",
            "text/plain": [
              "<Figure size 720x1008 with 30 Axes>"
            ]
          },
          "metadata": {
            "tags": []
          }
        }
      ]
    },
    {
      "cell_type": "code",
      "metadata": {
        "id": "tGyRrDBJia35",
        "colab_type": "code",
        "colab": {}
      },
      "source": [
        ""
      ],
      "execution_count": 0,
      "outputs": []
    }
  ]
}
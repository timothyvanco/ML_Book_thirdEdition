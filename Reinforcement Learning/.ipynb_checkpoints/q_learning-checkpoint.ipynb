{
 "cells": [
  {
   "cell_type": "markdown",
   "metadata": {
    "collapsed": true
   },
   "source": [
    "# Q-learning algorithm"
   ]
  },
  {
   "cell_type": "code",
   "execution_count": 2,
   "metadata": {},
   "outputs": [
    {
     "ename": "ModuleNotFoundError",
     "evalue": "No module named 'gridworld_env'",
     "output_type": "error",
     "traceback": [
      "\u001b[0;31m---------------------------------------------------------------------------\u001b[0m",
      "\u001b[0;31mModuleNotFoundError\u001b[0m                       Traceback (most recent call last)",
      "\u001b[0;32m<ipython-input-2-9d4a1705b2ea>\u001b[0m in \u001b[0;36m<module>\u001b[0;34m\u001b[0m\n\u001b[0;32m----> 1\u001b[0;31m \u001b[0;32mfrom\u001b[0m \u001b[0mgridworld_env\u001b[0m\u001b[0;34m.\u001b[0m\u001b[0mipynb\u001b[0m \u001b[0;32mimport\u001b[0m \u001b[0mGridWorldEnv\u001b[0m\u001b[0;34m\u001b[0m\u001b[0;34m\u001b[0m\u001b[0m\n\u001b[0m\u001b[1;32m      2\u001b[0m \u001b[0;32mfrom\u001b[0m \u001b[0magent\u001b[0m \u001b[0;32mimport\u001b[0m \u001b[0mAgent\u001b[0m\u001b[0;34m\u001b[0m\u001b[0;34m\u001b[0m\u001b[0m\n\u001b[1;32m      3\u001b[0m \u001b[0;32mfrom\u001b[0m \u001b[0mcollections\u001b[0m \u001b[0;32mimport\u001b[0m \u001b[0mnamedtuple\u001b[0m\u001b[0;34m\u001b[0m\u001b[0;34m\u001b[0m\u001b[0m\n\u001b[1;32m      4\u001b[0m \u001b[0;32mimport\u001b[0m \u001b[0mmatplotlib\u001b[0m\u001b[0;34m.\u001b[0m\u001b[0mpyplot\u001b[0m \u001b[0;32mas\u001b[0m \u001b[0mplt\u001b[0m\u001b[0;34m\u001b[0m\u001b[0;34m\u001b[0m\u001b[0m\n\u001b[1;32m      5\u001b[0m \u001b[0;32mimport\u001b[0m \u001b[0mnumpy\u001b[0m \u001b[0;32mas\u001b[0m \u001b[0mnp\u001b[0m\u001b[0;34m\u001b[0m\u001b[0;34m\u001b[0m\u001b[0m\n",
      "\u001b[0;31mModuleNotFoundError\u001b[0m: No module named 'gridworld_env'"
     ]
    }
   ],
   "source": [
    "from gridworld_env.ipynb import GridWorldEnv\n",
    "from agent import Agent\n",
    "from collections import namedtuple\n",
    "import matplotlib.pyplot as plt\n",
    "import numpy as np\n",
    "\n",
    "np.random.seed(1)\n",
    "\n",
    "Transition = namedtuple(\n",
    "    'Transition', ('state', 'action', 'reward', 'next_state', 'done'))\n",
    "\n",
    "\n",
    "def run_qlearning(agent, env, num_episodes=50):\n",
    "    history = []\n",
    "    for episode in range(num_episodes):\n",
    "        state = env.reset()\n",
    "        env.render(mode='human')\n",
    "        final_reward, n_moves = 0.0, 0\n",
    "        while True:\n",
    "            action = agent.choose_action(state)\n",
    "            next_s, reward, done, _ = env.step(action)\n",
    "            agent._learn(Transition(state, action, reward,\n",
    "                                    next_s, done))\n",
    "            env.render(mode='human', done=done)\n",
    "            state = next_s\n",
    "            n_moves += 1\n",
    "            if done:\n",
    "                break\n",
    "            final_reward = reward\n",
    "        history.append((n_moves, final_reward))\n",
    "        print('Episode %d: Reward %.1f #Moves %d'\n",
    "              % (episode, final_reward, n_moves))\n",
    "\n",
    "    return history\n",
    "\n",
    "\n",
    "def plot_learning_history(history):\n",
    "    fig = plt.figure(1, figsize=(14, 10))\n",
    "    ax = fig.add_subplot(2, 1, 1)\n",
    "    episodes = np.arange(len(history))\n",
    "    moves = np.array([h[0] for h in history])\n",
    "    plt.plot(episodes, moves, lw=4,\n",
    "             marker=\"o\", markersize=10)\n",
    "    ax.tick_params(axis='both', which='major', labelsize=15)\n",
    "    plt.xlabel('Episodes', size=20)\n",
    "    plt.ylabel('# moves', size=20)\n",
    "\n",
    "    ax = fig.add_subplot(2, 1, 2)\n",
    "    rewards = np.array([h[1] for h in history])\n",
    "    plt.step(episodes, rewards, lw=4)\n",
    "    ax.tick_params(axis='both', which='major', labelsize=15)\n",
    "    plt.xlabel('Episodes', size=20)\n",
    "    plt.ylabel('Final rewards', size=20)\n",
    "    plt.savefig('q-learning-history.png', dpi=300)\n",
    "    plt.show()\n",
    "\n",
    "\n",
    "if __name__ == '__main__':\n",
    "    env = GridWorldEnv(num_rows=5, num_cols=6)\n",
    "    agent = Agent(env)\n",
    "    history = run_qlearning(agent, env)\n",
    "    env.close()\n",
    "\n",
    "    plot_learning_history(history)\n"
   ]
  },
  {
   "cell_type": "code",
   "execution_count": null,
   "metadata": {},
   "outputs": [],
   "source": []
  }
 ],
 "metadata": {
  "kernelspec": {
   "display_name": "Python 3",
   "language": "python",
   "name": "python3"
  },
  "language_info": {
   "codemirror_mode": {
    "name": "ipython",
    "version": 3
   },
   "file_extension": ".py",
   "mimetype": "text/x-python",
   "name": "python",
   "nbconvert_exporter": "python",
   "pygments_lexer": "ipython3",
   "version": "3.7.4"
  }
 },
 "nbformat": 4,
 "nbformat_minor": 1
}
